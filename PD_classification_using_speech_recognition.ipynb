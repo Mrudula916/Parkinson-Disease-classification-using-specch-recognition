{
  "nbformat": 4,
  "nbformat_minor": 0,
  "metadata": {
    "colab": {
      "provenance": []
    },
    "kernelspec": {
      "name": "python3",
      "display_name": "Python 3"
    },
    "language_info": {
      "name": "python"
    }
  },
  "cells": [
    {
      "cell_type": "code",
      "source": [
        "# !pip install essentia"
      ],
      "metadata": {
        "id": "FTdcyEuA0Y0O"
      },
      "execution_count": 78,
      "outputs": []
    },
    {
      "cell_type": "code",
      "source": [
        "# import librosa\n",
        "# from librosa import feature, filters\n",
        "# import numpy as np\n",
        "# from essentia import standard as ess\n",
        "\n",
        "# fn_list_i = [\n",
        "#  feature.chroma_stft,\n",
        "#  feature.spectral_centroid,\n",
        "#  feature.spectral_bandwidth,\n",
        "#  feature.spectral_rolloff,\n",
        "#  feature.mfcc,\n",
        "# ]\n",
        " \n",
        "# fn_list_ii = [\n",
        "#  feature.rms,\n",
        "#  feature.zero_crossing_rate\n",
        "# ]\n",
        "# def get_feature_vector(y,sr): \n",
        "#    feat_vect_i = [ np.mean(funct(y,sr)) for funct in fn_list_i]\n",
        "#    feat_vect_ii = [ np.mean(funct(y)) for funct in fn_list_ii] \n",
        "#    feature_vector = feat_vect_i + feat_vect_ii \n",
        "#    return feature_vector"
      ],
      "metadata": {
        "id": "fDug99e3svv4"
      },
      "execution_count": 79,
      "outputs": []
    },
    {
      "cell_type": "code",
      "execution_count": 80,
      "metadata": {
        "id": "-ODugGxLsIDw"
      },
      "outputs": [],
      "source": [
        "# file = \"/content/drive/MyDrive/Spl topics in AI/Project/26-29_09_2017_KCL/ReadText/PD/ID02_pd_2_0_0.wav\"\n",
        "# norm_audios_feat = []\n",
        "# y , sr = librosa.load(file,sr=None)\n",
        "# feature_vector = get_feature_vector(y, sr)\n",
        "# norm_audios_feat.append(feature_vector)"
      ]
    },
    {
      "cell_type": "code",
      "source": [
        "# norm_audios_feat"
      ],
      "metadata": {
        "id": "06imUdkHs-4Q"
      },
      "execution_count": 81,
      "outputs": []
    },
    {
      "cell_type": "code",
      "source": [
        "# import pywt\n",
        "# from scipy.io import wavfile\n",
        "# import matplotlib.pyplot as plt\n",
        "\n",
        "# fs, samples_murmur = wavfile.read(file)\n",
        "# continuous_wavelet = pywt.ContinuousWavelet('mexh')\n",
        "# print(continuous_wavelet)\n",
        "\n",
        "# max_scale = 20\n",
        "# scales = np.arange(1, max_scale + 1)\n",
        "# cwtmatr, freqs = pywt.cwt(samples_murmur, scales, continuous_wavelet, 44100)\n",
        "\n",
        "# # visualize\n",
        "# plt.figure(figsize=(4,4))\n",
        "# (phi, psi) = continuous_wavelet.wavefun()\n",
        "# plt.plot(psi,phi)\n",
        "# plt.show()\n",
        "# plt.figure(figsize=(15,10))\n",
        "# plt.subplot(2,1,1)\n",
        "# plt.title('Murmur Heart Sound')\n",
        "# plt.xlabel('Samples')\n",
        "# plt.plot(np.linspace(0.0, len(samples_murmur),len(samples_murmur)), samples_murmur)\n",
        "# plt.xlim(xmin=0)\n",
        "# plt.grid()\n",
        "\n",
        "# plt.figure(figsize=(20,10))\n",
        "# plt.subplot(2,1,2)\n",
        "# plt.imshow(cwtmatr, extent=[0, int(len(samples_murmur)), 1, max_scale + 1],cmap='PRGn', aspect='auto', \n",
        "#            vmax=abs(cwtmatr).max(), vmin=-abs(cwtmatr).max())\n",
        "# plt.colorbar()\n",
        "\n",
        "# plt.show() "
      ],
      "metadata": {
        "id": "bBIzd_DPtF45"
      },
      "execution_count": 82,
      "outputs": []
    },
    {
      "cell_type": "code",
      "source": [
        "# # Mfcc - 13 coefficients\n",
        "\n",
        "# hamming_window = ess.Windowing(type='hamming')\n",
        "# spectrum = ess.Spectrum()  # we just want the magnitude spectrum\n",
        "# mfcc = ess.MFCC(numberCoefficients=13)\n",
        "# frame_sz = 1024\n",
        "# hop_sz = 500\n",
        "\n",
        "# mfccs = np.array([mfcc(spectrum(hamming_window(frame)))[1]\n",
        "#                for frame in ess.FrameGenerator(y, frameSize=frame_sz, hopSize=hop_sz)])\n",
        "# print(mfccs.shape)\n",
        "# print(mfccs[1])"
      ],
      "metadata": {
        "id": "cw24Ah5Oup-p"
      },
      "execution_count": 83,
      "outputs": []
    },
    {
      "cell_type": "code",
      "source": [
        "import pandas as pd\n",
        "import numpy as np\n",
        "from sklearn.decomposition import PCA\n",
        "from sklearn import neural_network\n",
        "from sklearn.model_selection import train_test_split, KFold\n",
        "from scipy import interp\n",
        "import numpy as np\n",
        "import pandas as pd\n",
        "import matplotlib.pyplot as plt\n",
        "from IPython.display import HTML, display\n",
        "import tabulate\n",
        "from sklearn.metrics import confusion_matrix,  roc_curve, auc\n",
        "\n"
      ],
      "metadata": {
        "id": "rdGELEKA1UNp"
      },
      "execution_count": 84,
      "outputs": []
    },
    {
      "cell_type": "code",
      "source": [
        "healthy_data = pd.read_csv('/content/processed_results2_hc.csv')\n",
        "pd_data = pd.read_csv(\"/content/processed_results2_pd.csv\")\n",
        "\n",
        "healthy_data['label'] = 0\n",
        "pd_data['label'] = 1\n",
        "\n",
        "frames = [healthy_data, pd_data]\n",
        "df = pd.concat(frames)\n",
        "\n",
        "df = df.drop('voiceID', axis = 1)"
      ],
      "metadata": {
        "id": "JtD8dfplGKaj"
      },
      "execution_count": 85,
      "outputs": []
    },
    {
      "cell_type": "code",
      "source": [
        "df.head(5)"
      ],
      "metadata": {
        "colab": {
          "base_uri": "https://localhost:8080/",
          "height": 300
        },
        "id": "DdW1ubY-912g",
        "outputId": "a4358748-756f-4872-f06b-7af3806e51d0"
      },
      "execution_count": 86,
      "outputs": [
        {
          "output_type": "execute_result",
          "data": {
            "text/plain": [
              "     duration    meanF0Hz  stdevF0Hz        HNR  localJitter  \\\n",
              "0  151.114717  173.028992  26.042716  13.292053     0.026783   \n",
              "1  164.105057  188.803016  29.907306  11.243993     0.015988   \n",
              "2  139.555329  123.982623  23.363294  13.423983     0.026935   \n",
              "3  110.926916  180.520417  34.073202  12.235210     0.020818   \n",
              "4  146.104762  194.261126  37.678373  14.669165     0.015138   \n",
              "\n",
              "   localabsoluteJitter  rapJitter  ppq5Jitter  ddpJitter  localShimmer  ...  \\\n",
              "0             0.000155   0.011867    0.013015   0.035600      0.111533  ...   \n",
              "1             0.000085   0.006635    0.006978   0.019906      0.078234  ...   \n",
              "2             0.000218   0.010964    0.011671   0.032892      0.102448  ...   \n",
              "3             0.000115   0.008991    0.009034   0.026972      0.080520  ...   \n",
              "4             0.000078   0.005401    0.005984   0.016203      0.082313  ...   \n",
              "\n",
              "   JitterPCA  ShimmerPCA        pF        fdisp   avgFormant          mff  \\\n",
              "0   4.254054    1.280083  1.291001  1157.083600  2284.521944  1766.874568   \n",
              "1  -3.150761    0.125995 -0.026432  1163.750228  2177.035048  1632.324771   \n",
              "2   3.047446    0.350653 -1.620569   970.327341  1943.058079  1505.488526   \n",
              "3  -1.665359   -0.676599  0.393018  1142.179360  2188.402499  1712.549717   \n",
              "4  -2.736372    1.659618  0.491228  1075.329006  2162.857357  1724.897066   \n",
              "\n",
              "   fitch_vtl      delta_f  vtl_delta_f  label  \n",
              "0  15.931988  1144.678590    15.288134      0  \n",
              "1  17.340182  1105.268318    15.833259      0  \n",
              "2  18.669511   975.273285    17.943688      0  \n",
              "3  16.371879  1103.799364    15.854331      0  \n",
              "4  16.242818  1079.213418    16.215514      0  \n",
              "\n",
              "[5 rows x 46 columns]"
            ],
            "text/html": [
              "\n",
              "  <div id=\"df-7d7173fc-34b0-4d43-bbc8-b7440b31beb8\">\n",
              "    <div class=\"colab-df-container\">\n",
              "      <div>\n",
              "<style scoped>\n",
              "    .dataframe tbody tr th:only-of-type {\n",
              "        vertical-align: middle;\n",
              "    }\n",
              "\n",
              "    .dataframe tbody tr th {\n",
              "        vertical-align: top;\n",
              "    }\n",
              "\n",
              "    .dataframe thead th {\n",
              "        text-align: right;\n",
              "    }\n",
              "</style>\n",
              "<table border=\"1\" class=\"dataframe\">\n",
              "  <thead>\n",
              "    <tr style=\"text-align: right;\">\n",
              "      <th></th>\n",
              "      <th>duration</th>\n",
              "      <th>meanF0Hz</th>\n",
              "      <th>stdevF0Hz</th>\n",
              "      <th>HNR</th>\n",
              "      <th>localJitter</th>\n",
              "      <th>localabsoluteJitter</th>\n",
              "      <th>rapJitter</th>\n",
              "      <th>ppq5Jitter</th>\n",
              "      <th>ddpJitter</th>\n",
              "      <th>localShimmer</th>\n",
              "      <th>...</th>\n",
              "      <th>JitterPCA</th>\n",
              "      <th>ShimmerPCA</th>\n",
              "      <th>pF</th>\n",
              "      <th>fdisp</th>\n",
              "      <th>avgFormant</th>\n",
              "      <th>mff</th>\n",
              "      <th>fitch_vtl</th>\n",
              "      <th>delta_f</th>\n",
              "      <th>vtl_delta_f</th>\n",
              "      <th>label</th>\n",
              "    </tr>\n",
              "  </thead>\n",
              "  <tbody>\n",
              "    <tr>\n",
              "      <th>0</th>\n",
              "      <td>151.114717</td>\n",
              "      <td>173.028992</td>\n",
              "      <td>26.042716</td>\n",
              "      <td>13.292053</td>\n",
              "      <td>0.026783</td>\n",
              "      <td>0.000155</td>\n",
              "      <td>0.011867</td>\n",
              "      <td>0.013015</td>\n",
              "      <td>0.035600</td>\n",
              "      <td>0.111533</td>\n",
              "      <td>...</td>\n",
              "      <td>4.254054</td>\n",
              "      <td>1.280083</td>\n",
              "      <td>1.291001</td>\n",
              "      <td>1157.083600</td>\n",
              "      <td>2284.521944</td>\n",
              "      <td>1766.874568</td>\n",
              "      <td>15.931988</td>\n",
              "      <td>1144.678590</td>\n",
              "      <td>15.288134</td>\n",
              "      <td>0</td>\n",
              "    </tr>\n",
              "    <tr>\n",
              "      <th>1</th>\n",
              "      <td>164.105057</td>\n",
              "      <td>188.803016</td>\n",
              "      <td>29.907306</td>\n",
              "      <td>11.243993</td>\n",
              "      <td>0.015988</td>\n",
              "      <td>0.000085</td>\n",
              "      <td>0.006635</td>\n",
              "      <td>0.006978</td>\n",
              "      <td>0.019906</td>\n",
              "      <td>0.078234</td>\n",
              "      <td>...</td>\n",
              "      <td>-3.150761</td>\n",
              "      <td>0.125995</td>\n",
              "      <td>-0.026432</td>\n",
              "      <td>1163.750228</td>\n",
              "      <td>2177.035048</td>\n",
              "      <td>1632.324771</td>\n",
              "      <td>17.340182</td>\n",
              "      <td>1105.268318</td>\n",
              "      <td>15.833259</td>\n",
              "      <td>0</td>\n",
              "    </tr>\n",
              "    <tr>\n",
              "      <th>2</th>\n",
              "      <td>139.555329</td>\n",
              "      <td>123.982623</td>\n",
              "      <td>23.363294</td>\n",
              "      <td>13.423983</td>\n",
              "      <td>0.026935</td>\n",
              "      <td>0.000218</td>\n",
              "      <td>0.010964</td>\n",
              "      <td>0.011671</td>\n",
              "      <td>0.032892</td>\n",
              "      <td>0.102448</td>\n",
              "      <td>...</td>\n",
              "      <td>3.047446</td>\n",
              "      <td>0.350653</td>\n",
              "      <td>-1.620569</td>\n",
              "      <td>970.327341</td>\n",
              "      <td>1943.058079</td>\n",
              "      <td>1505.488526</td>\n",
              "      <td>18.669511</td>\n",
              "      <td>975.273285</td>\n",
              "      <td>17.943688</td>\n",
              "      <td>0</td>\n",
              "    </tr>\n",
              "    <tr>\n",
              "      <th>3</th>\n",
              "      <td>110.926916</td>\n",
              "      <td>180.520417</td>\n",
              "      <td>34.073202</td>\n",
              "      <td>12.235210</td>\n",
              "      <td>0.020818</td>\n",
              "      <td>0.000115</td>\n",
              "      <td>0.008991</td>\n",
              "      <td>0.009034</td>\n",
              "      <td>0.026972</td>\n",
              "      <td>0.080520</td>\n",
              "      <td>...</td>\n",
              "      <td>-1.665359</td>\n",
              "      <td>-0.676599</td>\n",
              "      <td>0.393018</td>\n",
              "      <td>1142.179360</td>\n",
              "      <td>2188.402499</td>\n",
              "      <td>1712.549717</td>\n",
              "      <td>16.371879</td>\n",
              "      <td>1103.799364</td>\n",
              "      <td>15.854331</td>\n",
              "      <td>0</td>\n",
              "    </tr>\n",
              "    <tr>\n",
              "      <th>4</th>\n",
              "      <td>146.104762</td>\n",
              "      <td>194.261126</td>\n",
              "      <td>37.678373</td>\n",
              "      <td>14.669165</td>\n",
              "      <td>0.015138</td>\n",
              "      <td>0.000078</td>\n",
              "      <td>0.005401</td>\n",
              "      <td>0.005984</td>\n",
              "      <td>0.016203</td>\n",
              "      <td>0.082313</td>\n",
              "      <td>...</td>\n",
              "      <td>-2.736372</td>\n",
              "      <td>1.659618</td>\n",
              "      <td>0.491228</td>\n",
              "      <td>1075.329006</td>\n",
              "      <td>2162.857357</td>\n",
              "      <td>1724.897066</td>\n",
              "      <td>16.242818</td>\n",
              "      <td>1079.213418</td>\n",
              "      <td>16.215514</td>\n",
              "      <td>0</td>\n",
              "    </tr>\n",
              "  </tbody>\n",
              "</table>\n",
              "<p>5 rows × 46 columns</p>\n",
              "</div>\n",
              "      <button class=\"colab-df-convert\" onclick=\"convertToInteractive('df-7d7173fc-34b0-4d43-bbc8-b7440b31beb8')\"\n",
              "              title=\"Convert this dataframe to an interactive table.\"\n",
              "              style=\"display:none;\">\n",
              "        \n",
              "  <svg xmlns=\"http://www.w3.org/2000/svg\" height=\"24px\"viewBox=\"0 0 24 24\"\n",
              "       width=\"24px\">\n",
              "    <path d=\"M0 0h24v24H0V0z\" fill=\"none\"/>\n",
              "    <path d=\"M18.56 5.44l.94 2.06.94-2.06 2.06-.94-2.06-.94-.94-2.06-.94 2.06-2.06.94zm-11 1L8.5 8.5l.94-2.06 2.06-.94-2.06-.94L8.5 2.5l-.94 2.06-2.06.94zm10 10l.94 2.06.94-2.06 2.06-.94-2.06-.94-.94-2.06-.94 2.06-2.06.94z\"/><path d=\"M17.41 7.96l-1.37-1.37c-.4-.4-.92-.59-1.43-.59-.52 0-1.04.2-1.43.59L10.3 9.45l-7.72 7.72c-.78.78-.78 2.05 0 2.83L4 21.41c.39.39.9.59 1.41.59.51 0 1.02-.2 1.41-.59l7.78-7.78 2.81-2.81c.8-.78.8-2.07 0-2.86zM5.41 20L4 18.59l7.72-7.72 1.47 1.35L5.41 20z\"/>\n",
              "  </svg>\n",
              "      </button>\n",
              "      \n",
              "  <style>\n",
              "    .colab-df-container {\n",
              "      display:flex;\n",
              "      flex-wrap:wrap;\n",
              "      gap: 12px;\n",
              "    }\n",
              "\n",
              "    .colab-df-convert {\n",
              "      background-color: #E8F0FE;\n",
              "      border: none;\n",
              "      border-radius: 50%;\n",
              "      cursor: pointer;\n",
              "      display: none;\n",
              "      fill: #1967D2;\n",
              "      height: 32px;\n",
              "      padding: 0 0 0 0;\n",
              "      width: 32px;\n",
              "    }\n",
              "\n",
              "    .colab-df-convert:hover {\n",
              "      background-color: #E2EBFA;\n",
              "      box-shadow: 0px 1px 2px rgba(60, 64, 67, 0.3), 0px 1px 3px 1px rgba(60, 64, 67, 0.15);\n",
              "      fill: #174EA6;\n",
              "    }\n",
              "\n",
              "    [theme=dark] .colab-df-convert {\n",
              "      background-color: #3B4455;\n",
              "      fill: #D2E3FC;\n",
              "    }\n",
              "\n",
              "    [theme=dark] .colab-df-convert:hover {\n",
              "      background-color: #434B5C;\n",
              "      box-shadow: 0px 1px 3px 1px rgba(0, 0, 0, 0.15);\n",
              "      filter: drop-shadow(0px 1px 2px rgba(0, 0, 0, 0.3));\n",
              "      fill: #FFFFFF;\n",
              "    }\n",
              "  </style>\n",
              "\n",
              "      <script>\n",
              "        const buttonEl =\n",
              "          document.querySelector('#df-7d7173fc-34b0-4d43-bbc8-b7440b31beb8 button.colab-df-convert');\n",
              "        buttonEl.style.display =\n",
              "          google.colab.kernel.accessAllowed ? 'block' : 'none';\n",
              "\n",
              "        async function convertToInteractive(key) {\n",
              "          const element = document.querySelector('#df-7d7173fc-34b0-4d43-bbc8-b7440b31beb8');\n",
              "          const dataTable =\n",
              "            await google.colab.kernel.invokeFunction('convertToInteractive',\n",
              "                                                     [key], {});\n",
              "          if (!dataTable) return;\n",
              "\n",
              "          const docLinkHtml = 'Like what you see? Visit the ' +\n",
              "            '<a target=\"_blank\" href=https://colab.research.google.com/notebooks/data_table.ipynb>data table notebook</a>'\n",
              "            + ' to learn more about interactive tables.';\n",
              "          element.innerHTML = '';\n",
              "          dataTable['output_type'] = 'display_data';\n",
              "          await google.colab.output.renderOutput(dataTable, element);\n",
              "          const docLink = document.createElement('div');\n",
              "          docLink.innerHTML = docLinkHtml;\n",
              "          element.appendChild(docLink);\n",
              "        }\n",
              "      </script>\n",
              "    </div>\n",
              "  </div>\n",
              "  "
            ]
          },
          "metadata": {},
          "execution_count": 86
        }
      ]
    },
    {
      "cell_type": "code",
      "source": [
        "X = np.array(df.drop(['label'], 1))\n",
        "y = np.array(df['label'])"
      ],
      "metadata": {
        "colab": {
          "base_uri": "https://localhost:8080/"
        },
        "id": "ByUB31_W-F_q",
        "outputId": "d5a9c600-d6f5-4f42-b7e7-718079e5e2be"
      },
      "execution_count": 87,
      "outputs": [
        {
          "output_type": "stream",
          "name": "stderr",
          "text": [
            "<ipython-input-87-5ed635d377bc>:1: FutureWarning: In a future version of pandas all arguments of DataFrame.drop except for the argument 'labels' will be keyword-only\n",
            "  X = np.array(df.drop(['label'], 1))\n"
          ]
        }
      ]
    },
    {
      "cell_type": "code",
      "source": [
        "pca = PCA(n_components=20)\n",
        "decomposed_data = pca.fit_transform(X)"
      ],
      "metadata": {
        "id": "gU0f11qyFktF"
      },
      "execution_count": 88,
      "outputs": []
    },
    {
      "cell_type": "code",
      "source": [
        "decomposed_data.shape"
      ],
      "metadata": {
        "colab": {
          "base_uri": "https://localhost:8080/"
        },
        "id": "is-ngLAsGNhd",
        "outputId": "98f83890-a4a4-47ae-b62d-1c185e32be62"
      },
      "execution_count": 89,
      "outputs": [
        {
          "output_type": "execute_result",
          "data": {
            "text/plain": [
              "(37, 20)"
            ]
          },
          "metadata": {},
          "execution_count": 89
        }
      ]
    },
    {
      "cell_type": "code",
      "source": [
        "nn = neural_network.MLPClassifier(\n",
        "                                   hidden_layer_sizes = (200), \n",
        "                                   random_state = 42)"
      ],
      "metadata": {
        "id": "7mEpXTy1GQwM"
      },
      "execution_count": 90,
      "outputs": []
    },
    {
      "cell_type": "code",
      "source": [
        "cv = KFold(n_splits=5)"
      ],
      "metadata": {
        "id": "PJ9zV1efGTrU"
      },
      "execution_count": 91,
      "outputs": []
    },
    {
      "cell_type": "code",
      "source": [
        "#MLP with PCA\n",
        "\n",
        "folds = 5\n",
        "acc_pca = np.zeros(folds)\n",
        "confm = np.zeros((2, 2))\n",
        "\n",
        "tprs = []\n",
        "aucs = []\n",
        "mean_fpr = np.linspace(0, 1, 100)\n",
        "X = decomposed_data\n",
        "i = 0\n",
        "for train, test in cv.split(X, y):\n",
        "    probas_ = nn.fit(X[train], y[train]).predict_proba(X[test])\n",
        "    # print(np.asarray(y[test], dtype=int))\n",
        "    # Compute accuracy\n",
        "    y_pred = nn.predict(X[test])\n",
        "    acc_pca[i] = (y_pred == y[test]).mean()\n",
        "    # Confusion matrix\n",
        "    confm = confm + confusion_matrix(y[test], y_pred)\n",
        "    # Compute ROC curve and area the curve\n",
        "    fpr, tpr, thresholds = roc_curve(np.array(y[test], dtype=int), probas_[:, 1])\n",
        "    tprs.append(interp(mean_fpr, fpr, tpr))\n",
        "    tprs[-1][0] = 0.0\n",
        "    roc_auc = auc(fpr, tpr)\n",
        "    aucs.append(roc_auc)\n",
        "    plt.plot(fpr, tpr, lw=1, alpha=0.3,\n",
        "             label='ROC fold %d (AUC = %0.2f)' % (i, roc_auc))\n",
        "\n",
        "    i += 1\n",
        "plt.plot([0, 1], [0, 1], linestyle='--', lw=2, color='r',\n",
        "         label='Chance', alpha=.8)\n",
        "\n",
        "mean_tpr = np.mean(tprs, axis=0)\n",
        "mean_tpr[-1] = 1.0\n",
        "mean_auc = auc(mean_fpr, mean_tpr)\n",
        "std_auc = np.std(aucs)\n",
        "plt.plot(mean_fpr, mean_tpr, color='b',\n",
        "         label=r'Mean ROC (AUC = %0.2f $\\pm$ %0.2f)' % (mean_auc, std_auc),\n",
        "         lw=2, alpha=.8)\n",
        "\n",
        "std_tpr = np.std(tprs, axis=0)\n",
        "tprs_upper = np.minimum(mean_tpr + std_tpr, 1)\n",
        "tprs_lower = np.maximum(mean_tpr - std_tpr, 0)\n",
        "plt.fill_between(mean_fpr, tprs_lower, tprs_upper, color='grey', alpha=.2,\n",
        "                 label=r'$\\pm$ 1 std. dev.')\n",
        "\n",
        "plt.xlim([-0.05, 1.05])\n",
        "plt.ylim([-0.05, 1.05])\n",
        "plt.xlabel('False Positive Rate')\n",
        "plt.ylabel('True Positive Rate')\n",
        "plt.title('Receiver operating characteristic')\n",
        "plt.legend(loc='lower right')\n",
        "plt.rcParams[\"figure.figsize\"] = (6,10)\n",
        "plt.show()\n",
        "'{:.2f}% +- {:.2f}%'.format(acc_pca.mean() * 100, acc_pca.std() * 100) \n",
        "cm = np.zeros((3,3))\n",
        "cm[0:2, 0:2] = confm\n",
        "cm[0,2] = (cm[0,0] / cm[0,0:2].sum())* 100\n",
        "cm[1,2] = (cm[1,1] / cm[1,0:2].sum())* 100\n",
        "cm[2,0] = (cm[0,0] / cm[0:2,0].sum())* 100\n",
        "cm[2,1] = (cm[1,1] / cm[0:2,1].sum())* 100\n",
        "display(HTML(tabulate.tabulate(cm, tablefmt='html')))\n",
        "\n",
        "print('Accuracy: {:.2f}% +- {:.2f}%'.format(acc_pca.mean() * 100, acc_pca.std() * 100) )"
      ],
      "metadata": {
        "colab": {
          "base_uri": "https://localhost:8080/",
          "height": 1000
        },
        "id": "c_x0uENZGWpf",
        "outputId": "80d2b6c5-eab4-4de4-a2bd-122b78227e77"
      },
      "execution_count": 92,
      "outputs": [
        {
          "output_type": "stream",
          "name": "stderr",
          "text": [
            "/usr/local/lib/python3.8/dist-packages/sklearn/metrics/_ranking.py:999: UndefinedMetricWarning: No positive samples in y_true, true positive value should be meaningless\n",
            "  warnings.warn(\n",
            "<ipython-input-92-99043294e7e6>:22: DeprecationWarning: scipy.interp is deprecated and will be removed in SciPy 2.0.0, use numpy.interp instead\n",
            "  tprs.append(interp(mean_fpr, fpr, tpr))\n",
            "/usr/local/lib/python3.8/dist-packages/sklearn/metrics/_ranking.py:999: UndefinedMetricWarning: No positive samples in y_true, true positive value should be meaningless\n",
            "  warnings.warn(\n",
            "<ipython-input-92-99043294e7e6>:22: DeprecationWarning: scipy.interp is deprecated and will be removed in SciPy 2.0.0, use numpy.interp instead\n",
            "  tprs.append(interp(mean_fpr, fpr, tpr))\n",
            "<ipython-input-92-99043294e7e6>:22: DeprecationWarning: scipy.interp is deprecated and will be removed in SciPy 2.0.0, use numpy.interp instead\n",
            "  tprs.append(interp(mean_fpr, fpr, tpr))\n",
            "/usr/local/lib/python3.8/dist-packages/sklearn/metrics/_ranking.py:990: UndefinedMetricWarning: No negative samples in y_true, false positive value should be meaningless\n",
            "  warnings.warn(\n",
            "<ipython-input-92-99043294e7e6>:22: DeprecationWarning: scipy.interp is deprecated and will be removed in SciPy 2.0.0, use numpy.interp instead\n",
            "  tprs.append(interp(mean_fpr, fpr, tpr))\n",
            "/usr/local/lib/python3.8/dist-packages/sklearn/metrics/_ranking.py:990: UndefinedMetricWarning: No negative samples in y_true, false positive value should be meaningless\n",
            "  warnings.warn(\n",
            "<ipython-input-92-99043294e7e6>:22: DeprecationWarning: scipy.interp is deprecated and will be removed in SciPy 2.0.0, use numpy.interp instead\n",
            "  tprs.append(interp(mean_fpr, fpr, tpr))\n"
          ]
        },
        {
          "output_type": "display_data",
          "data": {
            "text/plain": [
              "<Figure size 432x720 with 1 Axes>"
            ],
            "image/png": "[encoded data removed]"
          },
          "metadata": {
            "needs_background": "light"
          }
        },
        {
          "output_type": "display_data",
          "data": {
            "text/plain": [
              "<IPython.core.display.HTML object>"
            ],
            "text/html": [
              "<table>\n",
              "<tbody>\n",
              "<tr><td style=\"text-align: right;\">17    </td><td style=\"text-align: right;\"> 4     </td><td style=\"text-align: right;\">80.9524</td></tr>\n",
              "<tr><td style=\"text-align: right;\"> 6    </td><td style=\"text-align: right;\">10     </td><td style=\"text-align: right;\">62.5   </td></tr>\n",
              "<tr><td style=\"text-align: right;\">73.913</td><td style=\"text-align: right;\">71.4286</td><td style=\"text-align: right;\"> 0     </td></tr>\n",
              "</tbody>\n",
              "</table>"
            ]
          },
          "metadata": {}
        },
        {
          "output_type": "stream",
          "name": "stdout",
          "text": [
            "Accuracy: 72.86% +- 12.13%\n"
          ]
        }
      ]
    },
    {
      "cell_type": "code",
      "source": [
        "#MLP without PCA\n",
        "\n",
        "folds = 5\n",
        "acc = np.zeros(folds)\n",
        "confm = np.zeros((2, 2))\n",
        "X = np.array(df.drop(['label'], 1))\n",
        "y = np.array(df['label'])\n",
        "tprs = []\n",
        "aucs = []\n",
        "mean_fpr = np.linspace(0, 1, 100)\n",
        "i = 0\n",
        "for train, test in cv.split(X, y):\n",
        "    probas_ = nn.fit(X[train], y[train]).predict_proba(X[test])\n",
        "    # print(np.asarray(y[test], dtype=int))\n",
        "    # Compute accuracy\n",
        "    y_pred = nn.predict(X[test])\n",
        "    acc[i] = (y_pred == y[test]).mean()\n",
        "    # Confusion matrix\n",
        "    confm = confm + confusion_matrix(y[test], y_pred)\n",
        "    # Compute ROC curve and area the curve\n",
        "    fpr, tpr, thresholds = roc_curve(np.array(y[test], dtype=int), probas_[:, 1])\n",
        "    tprs.append(interp(mean_fpr, fpr, tpr))\n",
        "    tprs[-1][0] = 0.0\n",
        "    roc_auc = auc(fpr, tpr)\n",
        "    aucs.append(roc_auc)\n",
        "    plt.plot(fpr, tpr, lw=1, alpha=0.3,\n",
        "             label='ROC fold %d (AUC = %0.2f)' % (i, roc_auc))\n",
        "\n",
        "    i += 1\n",
        "plt.plot([0, 1], [0, 1], linestyle='--', lw=2, color='r',\n",
        "         label='Chance', alpha=.8)\n",
        "\n",
        "mean_tpr = np.mean(tprs, axis=0)\n",
        "mean_tpr[-1] = 1.0\n",
        "mean_auc = auc(mean_fpr, mean_tpr)\n",
        "std_auc = np.std(aucs)\n",
        "plt.plot(mean_fpr, mean_tpr, color='b',\n",
        "         label=r'Mean ROC (AUC = %0.2f $\\pm$ %0.2f)' % (mean_auc, std_auc),\n",
        "         lw=2, alpha=.8)\n",
        "\n",
        "std_tpr = np.std(tprs, axis=0)\n",
        "tprs_upper = np.minimum(mean_tpr + std_tpr, 1)\n",
        "tprs_lower = np.maximum(mean_tpr - std_tpr, 0)\n",
        "plt.fill_between(mean_fpr, tprs_lower, tprs_upper, color='grey', alpha=.2,\n",
        "                 label=r'$\\pm$ 1 std. dev.')\n",
        "\n",
        "plt.xlim([-0.05, 1.05])\n",
        "plt.ylim([-0.05, 1.05])\n",
        "plt.xlabel('False Positive Rate')\n",
        "plt.ylabel('True Positive Rate')\n",
        "plt.title('Receiver operating characteristic')\n",
        "plt.legend(loc=\"lower right\")\n",
        "plt.show()\n",
        "'{:.2f}% +- {:.2f}%'.format(acc.mean() * 100, acc.std() * 100) \n",
        "cm = np.zeros((3,3))\n",
        "cm[0:2, 0:2] = confm\n",
        "cm[0,2] = (cm[0,0] / cm[0,0:2].sum())* 100\n",
        "cm[1,2] = (cm[1,1] / cm[1,0:2].sum())* 100\n",
        "cm[2,0] = (cm[0,0] / cm[0:2,0].sum())* 100\n",
        "cm[2,1] = (cm[1,1] / cm[0:2,1].sum())* 100\n",
        "print(\"Confusion Matrix: \")\n",
        "display(HTML(tabulate.tabulate(cm, tablefmt='html')))\n",
        "\n",
        "print('Accuracy: {:.2f}% +- {:.2f}%'.format(acc.mean() * 100, acc.std() * 100) )"
      ],
      "metadata": {
        "colab": {
          "base_uri": "https://localhost:8080/",
          "height": 1000
        },
        "id": "jsoELpVgGZ3j",
        "outputId": "55fe2ce9-4880-4349-aef8-3f0de1ac7871"
      },
      "execution_count": 93,
      "outputs": [
        {
          "output_type": "stream",
          "name": "stderr",
          "text": [
            "<ipython-input-93-f8aafc1fcc5b>:6: FutureWarning: In a future version of pandas all arguments of DataFrame.drop except for the argument 'labels' will be keyword-only\n",
            "  X = np.array(df.drop(['label'], 1))\n",
            "/usr/local/lib/python3.8/dist-packages/sklearn/metrics/_ranking.py:999: UndefinedMetricWarning: No positive samples in y_true, true positive value should be meaningless\n",
            "  warnings.warn(\n",
            "<ipython-input-93-f8aafc1fcc5b>:22: DeprecationWarning: scipy.interp is deprecated and will be removed in SciPy 2.0.0, use numpy.interp instead\n",
            "  tprs.append(interp(mean_fpr, fpr, tpr))\n",
            "/usr/local/lib/python3.8/dist-packages/sklearn/metrics/_ranking.py:999: UndefinedMetricWarning: No positive samples in y_true, true positive value should be meaningless\n",
            "  warnings.warn(\n",
            "<ipython-input-93-f8aafc1fcc5b>:22: DeprecationWarning: scipy.interp is deprecated and will be removed in SciPy 2.0.0, use numpy.interp instead\n",
            "  tprs.append(interp(mean_fpr, fpr, tpr))\n",
            "<ipython-input-93-f8aafc1fcc5b>:22: DeprecationWarning: scipy.interp is deprecated and will be removed in SciPy 2.0.0, use numpy.interp instead\n",
            "  tprs.append(interp(mean_fpr, fpr, tpr))\n",
            "/usr/local/lib/python3.8/dist-packages/sklearn/metrics/_ranking.py:990: UndefinedMetricWarning: No negative samples in y_true, false positive value should be meaningless\n",
            "  warnings.warn(\n",
            "<ipython-input-93-f8aafc1fcc5b>:22: DeprecationWarning: scipy.interp is deprecated and will be removed in SciPy 2.0.0, use numpy.interp instead\n",
            "  tprs.append(interp(mean_fpr, fpr, tpr))\n",
            "/usr/local/lib/python3.8/dist-packages/sklearn/neural_network/_multilayer_perceptron.py:692: ConvergenceWarning: Stochastic Optimizer: Maximum iterations (200) reached and the optimization hasn't converged yet.\n",
            "  warnings.warn(\n",
            "/usr/local/lib/python3.8/dist-packages/sklearn/metrics/_ranking.py:990: UndefinedMetricWarning: No negative samples in y_true, false positive value should be meaningless\n",
            "  warnings.warn(\n",
            "<ipython-input-93-f8aafc1fcc5b>:22: DeprecationWarning: scipy.interp is deprecated and will be removed in SciPy 2.0.0, use numpy.interp instead\n",
            "  tprs.append(interp(mean_fpr, fpr, tpr))\n"
          ]
        },
        {
          "output_type": "display_data",
          "data": {
            "text/plain": [
              "<Figure size 432x720 with 1 Axes>"
            ],
            "image/png": "[encoded data removed]"
          },
          "metadata": {
            "needs_background": "light"
          }
        },
        {
          "output_type": "stream",
          "name": "stdout",
          "text": [
            "Confusion Matrix: \n"
          ]
        },
        {
          "output_type": "display_data",
          "data": {
            "text/plain": [
              "<IPython.core.display.HTML object>"
            ],
            "text/html": [
              "<table>\n",
              "<tbody>\n",
              "<tr><td style=\"text-align: right;\">20     </td><td style=\"text-align: right;\">17  </td><td style=\"text-align: right;\">54.0541</td></tr>\n",
              "<tr><td style=\"text-align: right;\">25     </td><td style=\"text-align: right;\">23  </td><td style=\"text-align: right;\">47.9167</td></tr>\n",
              "<tr><td style=\"text-align: right;\">44.4444</td><td style=\"text-align: right;\">57.5</td><td style=\"text-align: right;\"> 0     </td></tr>\n",
              "</tbody>\n",
              "</table>"
            ]
          },
          "metadata": {}
        },
        {
          "output_type": "stream",
          "name": "stdout",
          "text": [
            "Accuracy: 71.43% +- 31.30%\n"
          ]
        }
      ]
    },
    {
      "cell_type": "code",
      "source": [
        "import tensorflow as tf\n",
        "\n",
        "from tensorflow.keras import layers, models\n",
        "from sklearn.preprocessing import StandardScaler\n",
        "from sklearn.compose import make_column_transformer"
      ],
      "metadata": {
        "id": "79aixInrHF4T"
      },
      "execution_count": 94,
      "outputs": []
    },
    {
      "cell_type": "code",
      "source": [
        "X = df.copy()\n",
        "y = X.pop('label') # pop last column off from X \n",
        "\n",
        "# normalise X so all features are within similar range\n",
        "preprocessor = make_column_transformer((StandardScaler(),list(X.columns)))\n",
        "\n",
        "# split into training, cross validation set\n",
        "X_train, X_valid, y_train, y_valid = \\\n",
        "    train_test_split(X, y, stratify=y, train_size=0.6) #stratify makes sure classes are represented evenly across splits\n",
        "\n",
        "# split cross validation set into cross val and test set\n",
        "X_valid, X_test, y_valid, y_test = \\\n",
        "    train_test_split(X_valid, y_valid, stratify=y_valid, train_size=0.8)\n",
        "\n",
        "X_train = preprocessor.fit_transform(X_train)\n",
        "X_valid = preprocessor.transform(X_valid)\n",
        "X_test = preprocessor.transform(X_test)\n"
      ],
      "metadata": {
        "id": "4njlhwioHlD6"
      },
      "execution_count": 95,
      "outputs": []
    },
    {
      "cell_type": "code",
      "source": [
        "input_dim = [X_train.shape[1]]  # Number of features\n"
      ],
      "metadata": {
        "id": "e23mOSKnHpJ5"
      },
      "execution_count": 96,
      "outputs": []
    },
    {
      "cell_type": "code",
      "source": [
        "model = tf.keras.Sequential([\n",
        "    layers.Dense(70,activation=\"relu\",input_shape=input_dim), # hidden layer 1 with 70 nodes and relu activation fnc\n",
        "    layers.BatchNormalization(), # normalize hidden layer --> more stability\n",
        "    layers.Dropout(0.1), # randomly drop 10% of nodes to prevent overfitting\n",
        "    layers.Dense(70,activation=\"relu\"), # same as before\n",
        "    layers.BatchNormalization(), #same as before\n",
        "    layers.Dropout(0.1),\n",
        "    layers.Dense(40,activation=\"relu\"), # same as before\n",
        "    layers.BatchNormalization(), #same as before\n",
        "    layers.Dropout(0.1),\n",
        "    layers.Dense(30,activation=\"relu\"), # same as before\n",
        "    layers.BatchNormalization(), #same as before\n",
        "    layers.Dropout(0.1),\n",
        "    layers.Dense(1,activation=\"sigmoid\") # binary output so only 1 output node, activation function is sigmoid\n",
        "])"
      ],
      "metadata": {
        "id": "9InXtjkIHt38"
      },
      "execution_count": 97,
      "outputs": []
    },
    {
      "cell_type": "code",
      "source": [
        "model.compile(optimizer=tf.keras.optimizers.Adam(learning_rate=0.0001), loss=\"binary_crossentropy\", metrics=[\"binary_accuracy\"])\n",
        "model.summary()"
      ],
      "metadata": {
        "colab": {
          "base_uri": "https://localhost:8080/"
        },
        "id": "mFjjAkGWHwCp",
        "outputId": "932d58cf-d283-46c3-f8ca-8d852c5d0a19"
      },
      "execution_count": 98,
      "outputs": [
        {
          "output_type": "stream",
          "name": "stdout",
          "text": [
            "Model: \"sequential_2\"\n",
            "_________________________________________________________________\n",
            " Layer (type)                Output Shape              Param #   \n",
            "=================================================================\n",
            " dense_10 (Dense)            (None, 70)                3220      \n",
            "                                                                 \n",
            " batch_normalization_8 (Batc  (None, 70)               280       \n",
            " hNormalization)                                                 \n",
            "                                                                 \n",
            " dropout_8 (Dropout)         (None, 70)                0         \n",
            "                                                                 \n",
            " dense_11 (Dense)            (None, 70)                4970      \n",
            "                                                                 \n",
            " batch_normalization_9 (Batc  (None, 70)               280       \n",
            " hNormalization)                                                 \n",
            "                                                                 \n",
            " dropout_9 (Dropout)         (None, 70)                0         \n",
            "                                                                 \n",
            " dense_12 (Dense)            (None, 40)                2840      \n",
            "                                                                 \n",
            " batch_normalization_10 (Bat  (None, 40)               160       \n",
            " chNormalization)                                                \n",
            "                                                                 \n",
            " dropout_10 (Dropout)        (None, 40)                0         \n",
            "                                                                 \n",
            " dense_13 (Dense)            (None, 30)                1230      \n",
            "                                                                 \n",
            " batch_normalization_11 (Bat  (None, 30)               120       \n",
            " chNormalization)                                                \n",
            "                                                                 \n",
            " dropout_11 (Dropout)        (None, 30)                0         \n",
            "                                                                 \n",
            " dense_14 (Dense)            (None, 1)                 31        \n",
            "                                                                 \n",
            "=================================================================\n",
            "Total params: 13,131\n",
            "Trainable params: 12,711\n",
            "Non-trainable params: 420\n",
            "_________________________________________________________________\n"
          ]
        }
      ]
    },
    {
      "cell_type": "code",
      "source": [
        "early_stopping = tf.keras.callbacks.EarlyStopping(\n",
        "    patience=20,\n",
        "    min_delta=0.001,\n",
        "    restore_best_weights=True,\n",
        ")\n",
        "history = model.fit(\n",
        "    X_train, y_train,\n",
        "    validation_data=(X_test, y_test),\n",
        "    batch_size=10,\n",
        "    epochs=500,\n",
        "    callbacks=[early_stopping],\n",
        "    verbose=0\n",
        ")\n",
        "\n",
        "history_df = pd.DataFrame(history.history)\n",
        "history_df.loc[:, ['loss', 'val_loss']].plot(title=\"Cross-entropy\")\n",
        "history_df.loc[:, ['binary_accuracy', 'val_binary_accuracy']].plot(title=\"Accuracy\")"
      ],
      "metadata": {
        "colab": {
          "base_uri": "https://localhost:8080/",
          "height": 1000
        },
        "id": "SzBY1BlfHy1S",
        "outputId": "5f338b2c-e79a-46c8-b245-afb399481852"
      },
      "execution_count": 99,
      "outputs": [
        {
          "output_type": "execute_result",
          "data": {
            "text/plain": [
              "<matplotlib.axes._subplots.AxesSubplot at 0x7f4af225f670>"
            ]
          },
          "metadata": {},
          "execution_count": 99
        },
        {
          "output_type": "display_data",
          "data": {
            "text/plain": [
              "<Figure size 432x720 with 1 Axes>"
            ],
            "image/png": "[encoded data removed]"
          },
          "metadata": {
            "needs_background": "light"
          }
        },
        {
          "output_type": "display_data",
          "data": {
            "text/plain": [
              "<Figure size 432x720 with 1 Axes>"
            ],
            "image/png": "[encoded data removed]"
          },
          "metadata": {
            "needs_background": "light"
          }
        }
      ]
    },
    {
      "cell_type": "code",
      "source": [
        "loss, accuracy = model.evaluate(X_train, y_train, verbose=False)\n",
        "print(\"Training Accuracy: {:.4f}\".format(accuracy))\n",
        "loss, accuracy = model.evaluate(X_test, y_test, verbose=False)\n",
        "print(\"Testing Accuracy:  {:.4f}\".format(accuracy))"
      ],
      "metadata": {
        "colab": {
          "base_uri": "https://localhost:8080/"
        },
        "id": "aZ_AJ0fcH2gO",
        "outputId": "dc17c223-df14-4e63-de28-1da06049bdfd"
      },
      "execution_count": 100,
      "outputs": [
        {
          "output_type": "stream",
          "name": "stdout",
          "text": [
            "Training Accuracy: 0.5909\n",
            "Testing Accuracy:  0.3333\n"
          ]
        }
      ]
    },
    {
      "cell_type": "code",
      "source": [
        "predictions = [round(x[0]) for x in model.predict(X_test)]\n",
        "y = [x for x in y_test]\n",
        "num_true = 0\n",
        "total = len(predictions)\n",
        "for i in range(len(predictions)):\n",
        "    if predictions[i] == y[i]:\n",
        "        num_true += 1\n",
        "accuracy = (num_true/total)*100\n",
        "\n",
        "print(\"Percent of correct predictions: {}%\".format(accuracy))"
      ],
      "metadata": {
        "colab": {
          "base_uri": "https://localhost:8080/"
        },
        "id": "IIyHFYs0H8vD",
        "outputId": "68f7c87d-6bcc-4fb1-c5cb-f6dfee4bc057"
      },
      "execution_count": 101,
      "outputs": [
        {
          "output_type": "stream",
          "name": "stdout",
          "text": [
            "1/1 [==============================] - 0s 127ms/step\n",
            "Percent of correct predictions: 33.33333333333333%\n"
          ]
        }
      ]
    }
  ]
}